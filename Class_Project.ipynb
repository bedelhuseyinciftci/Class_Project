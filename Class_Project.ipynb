{
  "nbformat": 4,
  "nbformat_minor": 0,
  "metadata": {
    "colab": {
      "provenance": []
    },
    "kernelspec": {
      "name": "python3",
      "display_name": "Python 3"
    },
    "language_info": {
      "name": "python"
    }
  },
  "cells": [
    {
      "cell_type": "code",
      "execution_count": 31,
      "metadata": {
        "id": "ygzzE8HvoSnX"
      },
      "outputs": [],
      "source": [
        "class HealthInsurance:\n",
        "  def __init__(self, company_name, foundation_year, founder_name, company_slogan, num_of_employees, num_of_clients):\n",
        "    self.company_name = company_name,\n",
        "    self.foundation_year = foundation_year,\n",
        "    self.founder_name = founder_name,\n",
        "    self.company_slogan = company_slogan,\n",
        "    self.num_of_employees = num_of_employees,\n",
        "    self.num_of_clients = num_of_clients\n",
        "\n",
        "  def print_report(self):\n",
        "      print(f\"\"\"The company{self.company_name} was founded in {self.foundation_year}.\n",
        "            The founder of the company is {self.founder_name}.\n",
        "            Company Slogan : {self.company_slogan}.\n",
        "            Number of employees : {self.num_of_employees}.\n",
        "            Number of clients : {self.num_of_clients}\"\"\")\n",
        "\n",
        "  def sup_health_insurance(self, age, chronic_disease, income):\n",
        "      if age >= 60 and chronic_disease == True and income < 6000:\n",
        "        print(\"We are sorry! You are not eligible for supplemental health insurance.\")\n",
        "      elif age < 60 and income >=6000 or chronic_disease == False:\n",
        "        print(\"Congratulations! You can get supplemental health insurance.\")\n",
        "\n",
        "  def update_num_clients(self, new_number):\n",
        "      self.num_of_clients = new_number\n",
        "      print(f\"Number of clients has been changed to {self.num_of_clients}!\")\n",
        ""
      ]
    },
    {
      "cell_type": "code",
      "source": [
        "HI_company1 = HealthInsurance('Healthy', 2012, 'Bob Mayer', 'We care for you', 3500, 13230)"
      ],
      "metadata": {
        "id": "tEafrIQSqiJU"
      },
      "execution_count": 32,
      "outputs": []
    },
    {
      "cell_type": "code",
      "source": [
        "HI_company1.sup_health_insurance(45, False, 5000)"
      ],
      "metadata": {
        "colab": {
          "base_uri": "https://localhost:8080/"
        },
        "id": "3WdVwv3pq0bU",
        "outputId": "c03664c6-de17-400e-cdf9-ad6d17755e19"
      },
      "execution_count": 23,
      "outputs": [
        {
          "output_type": "stream",
          "name": "stdout",
          "text": [
            "Congratulations! You can get supplemental health insurance.\n"
          ]
        }
      ]
    },
    {
      "cell_type": "code",
      "source": [
        "HI_company1.update_num_clients(13231)"
      ],
      "metadata": {
        "colab": {
          "base_uri": "https://localhost:8080/"
        },
        "id": "fs6Sjmvsq6WD",
        "outputId": "8b1dfc23-e04f-40c3-c164-057519707b15"
      },
      "execution_count": 13,
      "outputs": [
        {
          "output_type": "stream",
          "name": "stdout",
          "text": [
            "Number of clients has been changed to 13231!\n"
          ]
        }
      ]
    },
    {
      "cell_type": "code",
      "source": [
        "HI_company1.print_report()"
      ],
      "metadata": {
        "colab": {
          "base_uri": "https://localhost:8080/"
        },
        "id": "aBU4kCoNsvTv",
        "outputId": "35600187-4641-4fa9-d008-d58c72b9e3a3"
      },
      "execution_count": 33,
      "outputs": [
        {
          "output_type": "stream",
          "name": "stdout",
          "text": [
            "The company('Healthy',) was founded in (2012,).\n",
            "            The founder of the company is ('Bob Mayer',).\n",
            "            Company Slogan : ('We care for you',).\n",
            "            Number of employees : (3500,).\n",
            "            Number of clients : 13230\n"
          ]
        }
      ]
    },
    {
      "cell_type": "code",
      "source": [
        "class Logistic:\n",
        "  def __init__(self, company_name, foundation_year, founder_name, company_slogan, inventory_space):\n",
        "    self.company_name = company_name,\n",
        "    self.foundation_year = foundation_year,\n",
        "    self.founder_name = founder_name,\n",
        "    self.company_slogan = company_slogan,\n",
        "    self.inventory_space= inventory_space,\n",
        "  def print_report(self):\n",
        "    print(f\"\"\"The company{self.company_name} was founded in {self.foundation_year}.\n",
        "            The founder of the company is {self.founder_name}.\n",
        "            Company Slogan : {self.company_slogan}.\n",
        "            Inventory space of the company: {self.inventory_space}\"\"\")\n",
        "  def update_inventory_space(self, new_storage_space):\n",
        "    self.inventory_space = new_storage_space\n",
        "    print(f\"Inventory space has been changed to {self.inventory_space}\")"
      ],
      "metadata": {
        "id": "0JEaeBFSs2hw"
      },
      "execution_count": 41,
      "outputs": []
    },
    {
      "cell_type": "code",
      "source": [
        "logistic_company1 = Logistic(\"LogCom\", 1990, \"Laura McCartey\", \"There is no place we cannot reach.\", 2500)"
      ],
      "metadata": {
        "id": "m3riPtSluSnu"
      },
      "execution_count": 42,
      "outputs": []
    },
    {
      "cell_type": "code",
      "source": [
        "logistic_company1.update_inventory_space(3000)\n",
        "logistic_company1.print_report"
      ],
      "metadata": {
        "colab": {
          "base_uri": "https://localhost:8080/"
        },
        "id": "p2M_FyV5xI3x",
        "outputId": "8f524255-12a8-47be-92dd-6ccda6fd6dcc"
      },
      "execution_count": 43,
      "outputs": [
        {
          "output_type": "stream",
          "name": "stdout",
          "text": [
            "Inventory space has been changed to 3000\n"
          ]
        },
        {
          "output_type": "execute_result",
          "data": {
            "text/plain": [
              "<bound method Logistic.print_report of <__main__.Logistic object at 0x7a5f33541180>>"
            ]
          },
          "metadata": {},
          "execution_count": 43
        }
      ]
    },
    {
      "cell_type": "code",
      "source": [],
      "metadata": {
        "id": "BNlziNatxQdK"
      },
      "execution_count": null,
      "outputs": []
    }
  ]
}